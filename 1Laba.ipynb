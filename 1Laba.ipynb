{
 "cells": [
  {
   "cell_type": "markdown",
   "id": "9a61d2c1",
   "metadata": {},
   "source": [
    "# Лабораторная работа №1\n",
    "## ----------------------------------------------------------------------------------------------------------------------------------\n",
    "## Задание:\n",
    "1. Найти набор данных (датасет) для классификации удовлетворяющий следующим условиям: более 10 000 строк, более 20 столбцов, разные типы в столбцах, обязательно наличие целевого признака (таргета).\n",
    "2. Провести классификацию найденного датасета, методом к- ближайших соседей. В формате Markdown писать пояснения. Объяснить почему были выбраны именно такие гиперпараметры, была ли перекрестная проверка, и т.д."
   ]
  },
  {
   "cell_type": "markdown",
   "id": "ed1c15d3",
   "metadata": {},
   "source": [
    "## Решение:\n",
    "#### Подключаем библеотеки\n"
   ]
  },
  {
   "cell_type": "code",
   "execution_count": 1,
   "id": "4f5f22e4",
   "metadata": {},
   "outputs": [],
   "source": [
    "import pandas as pd\n",
    "from sklearn.preprocessing import LabelEncoder\n",
    "\n",
    "from sklearn.model_selection import train_test_split\n",
    "from sklearn.neighbors import KNeighborsClassifier\n",
    "from sklearn.metrics import accuracy_score\n",
    "\n",
    "import matplotlib.pyplot as plt"
   ]
  },
  {
   "cell_type": "markdown",
   "id": "ed156100",
   "metadata": {},
   "source": [
    "#### Загружаю данные и вывоу датасет\n"
   ]
  },
  {
   "cell_type": "code",
   "execution_count": 13,
   "id": "ba6e6a39",
   "metadata": {},
   "outputs": [
    {
     "name": "stdout",
     "output_type": "stream",
     "text": [
      "             Timestamp Source IP Address Destination IP Address  Source Port  \\\n",
      "0  2023-05-30 06:33:58     103.216.15.12           84.9.164.252        31225   \n",
      "1  2020-08-26 07:08:30    78.199.217.198         66.191.137.154        17245   \n",
      "2  2022-11-13 08:23:25      63.79.210.48          198.219.82.17        16811   \n",
      "3  2023-07-02 10:38:46     163.42.196.10        101.228.192.255        20018   \n",
      "4  2023-07-16 13:11:07     71.166.185.76        189.243.174.238         6131   \n",
      "\n",
      "   Destination Port Protocol  Packet Length Packet Type Traffic Type  \\\n",
      "0             17616     ICMP            503        Data         HTTP   \n",
      "1             48166     ICMP           1174        Data         HTTP   \n",
      "2             53600      UDP            306     Control         HTTP   \n",
      "3             32534      UDP            385        Data         HTTP   \n",
      "4             26646      TCP           1462        Data          DNS   \n",
      "\n",
      "                                        Payload Data  ... Action Taken  \\\n",
      "0  Qui natus odio asperiores nam. Optio nobis ius...  ...       Logged   \n",
      "1  Aperiam quos modi officiis veritatis rem. Omni...  ...      Blocked   \n",
      "2  Perferendis sapiente vitae soluta. Hic delectu...  ...      Ignored   \n",
      "3  Totam maxime beatae expedita explicabo porro l...  ...      Blocked   \n",
      "4  Odit nesciunt dolorem nisi iste iusto. Animi v...  ...      Blocked   \n",
      "\n",
      "   Severity Level User Information  \\\n",
      "0             Low    Reyansh Dugal   \n",
      "1             Low       Sumer Rana   \n",
      "2             Low     Himmat Karpe   \n",
      "3          Medium       Fateh Kibe   \n",
      "4             Low     Dhanush Chad   \n",
      "\n",
      "                                  Device Information Network Segment  \\\n",
      "0  Mozilla/5.0 (compatible; MSIE 8.0; Windows NT ...       Segment A   \n",
      "1  Mozilla/5.0 (compatible; MSIE 8.0; Windows NT ...       Segment B   \n",
      "2  Mozilla/5.0 (compatible; MSIE 9.0; Windows NT ...       Segment C   \n",
      "3  Mozilla/5.0 (Macintosh; PPC Mac OS X 10_11_5; ...       Segment B   \n",
      "4  Mozilla/5.0 (compatible; MSIE 5.0; Windows NT ...       Segment C   \n",
      "\n",
      "    Geo-location Data Proxy Information Firewall Logs IDS/IPS Alerts  \\\n",
      "0  Jamshedpur, Sikkim      150.9.97.135      Log Data            NaN   \n",
      "1  Bilaspur, Nagaland               NaN      Log Data            NaN   \n",
      "2   Bokaro, Rajasthan    114.133.48.179      Log Data     Alert Data   \n",
      "3  Jaunpur, Rajasthan               NaN           NaN     Alert Data   \n",
      "4  Anantapur, Tripura     149.6.110.119           NaN     Alert Data   \n",
      "\n",
      "  Log Source  \n",
      "0     Server  \n",
      "1   Firewall  \n",
      "2   Firewall  \n",
      "3   Firewall  \n",
      "4   Firewall  \n",
      "\n",
      "[5 rows x 25 columns]\n"
     ]
    }
   ],
   "source": [
    "Dataset = pd.read_csv('cybersecurity_attacks.csv')  # Замени на путь к файлу\n",
    "print(Dataset.head())"
   ]
  },
  {
   "cell_type": "markdown",
   "id": "9777a82a",
   "metadata": {},
   "source": [
    "### Создаём искомый столбец "
   ]
  },
  {
   "cell_type": "code",
   "execution_count": 14,
   "id": "d420caf2",
   "metadata": {},
   "outputs": [
    {
     "name": "stdout",
     "output_type": "stream",
     "text": [
      "  Attack Type  Attack Type Encoded\n",
      "0     Malware                    2\n",
      "1     Malware                    2\n",
      "2        DDoS                    0\n",
      "3     Malware                    2\n",
      "4        DDoS                    0\n"
     ]
    }
   ],
   "source": [
    "label_encoder = LabelEncoder()\n",
    "Dataset['Attack Type Encoded'] = label_encoder.fit_transform(Dataset['Attack Type'])\n",
    "print(Dataset[['Attack Type', 'Attack Type Encoded']].head())"
   ]
  },
  {
   "cell_type": "markdown",
   "id": "7cf8a821",
   "metadata": {},
   "source": [
    "#### Удоляем не числовые столбцы"
   ]
  },
  {
   "cell_type": "code",
   "execution_count": 15,
   "id": "eeeaac80",
   "metadata": {},
   "outputs": [
    {
     "name": "stdout",
     "output_type": "stream",
     "text": [
      "<class 'pandas.core.frame.DataFrame'>\n",
      "RangeIndex: 40000 entries, 0 to 39999\n",
      "Data columns (total 5 columns):\n",
      " #   Column               Non-Null Count  Dtype  \n",
      "---  ------               --------------  -----  \n",
      " 0   Source Port          40000 non-null  int64  \n",
      " 1   Destination Port     40000 non-null  int64  \n",
      " 2   Packet Length        40000 non-null  int64  \n",
      " 3   Anomaly Scores       40000 non-null  float64\n",
      " 4   Attack Type Encoded  40000 non-null  int32  \n",
      "dtypes: float64(1), int32(1), int64(3)\n",
      "memory usage: 1.4 MB\n"
     ]
    }
   ],
   "source": [
    "non_numeric_columns = Dataset.select_dtypes(exclude=['number']).columns.tolist()\n",
    "Dataset = Dataset.drop(columns=non_numeric_columns)\n",
    "Dataset.info()"
   ]
  },
  {
   "cell_type": "markdown",
   "id": "17367104",
   "metadata": {},
   "source": [
    "#### Разделяем данные на признаки и целевую функцию, создаю модель к-ближайших соседей , обучаю модель, делаю предсказание на тестовой наборе, оцениваю качество модели. "
   ]
  },
  {
   "cell_type": "code",
   "execution_count": 16,
   "id": "c5279dc8",
   "metadata": {},
   "outputs": [
    {
     "name": "stdout",
     "output_type": "stream",
     "text": [
      "Точность модели k-ближайших соседей: 0.34\n"
     ]
    }
   ],
   "source": [
    "X = Dataset.drop(['Attack Type Encoded'], axis=1)\n",
    "y = Dataset['Attack Type Encoded']\n",
    "\n",
    "X_train, X_test, y_train, y_test = train_test_split(X, y, test_size=0.2, random_state=42)\n",
    "\n",
    "knn = KNeighborsClassifier(n_neighbors=5)\n",
    "\n",
    "knn.fit(X_train, y_train)\n",
    "\n",
    "y_pred = knn.predict(X_test)\n",
    "\n",
    "accuracy = accuracy_score(y_test, y_pred)\n",
    "print(f'Точность модели k-ближайших соседей: {accuracy:.2f}')"
   ]
  },
  {
   "cell_type": "markdown",
   "id": "9bd8c5f5",
   "metadata": {},
   "source": [
    "#### График точности для разного колличества соседей"
   ]
  },
  {
   "cell_type": "code",
   "execution_count": 17,
   "id": "09c46a22",
   "metadata": {},
   "outputs": [
    {
     "data": {
      "image/png": "[encoded data removed]",
      "text/plain": [
       "<Figure size 720x432 with 1 Axes>"
      ]
     },
     "metadata": {
      "needs_background": "light"
     },
     "output_type": "display_data"
    }
   ],
   "source": [
    "accuracies = []\n",
    "neighbors = range(1, 21)\n",
    "\n",
    "for k in neighbors:\n",
    "    knn = KNeighborsClassifier(n_neighbors=k)\n",
    "    knn.fit(X_train, y_train)\n",
    "    y_pred = knn.predict(X_test)\n",
    "    accuracy = accuracy_score(y_test, y_pred)\n",
    "    accuracies.append(accuracy)\n",
    "\n",
    "plt.figure(figsize=(10, 6))\n",
    "plt.plot(neighbors, accuracies, marker='o', linestyle='dashed', color='blue', markersize=8)\n",
    "plt.title('Точность модели для разного количества соседей')\n",
    "plt.xlabel('Количество соседей')\n",
    "plt.ylabel('Точность')\n",
    "plt.xticks(neighbors)\n",
    "plt.grid(True)\n",
    "plt.show()"
   ]
  },
  {
   "cell_type": "markdown",
   "id": "11c48d3d",
   "metadata": {},
   "source": [
    "#### Выбор гиперпараметров в модели машинного обучения, такой как количество соседей (в случае метода k-ближайших соседей), часто осуществляется путем применения техник перекрестной проверки (cross-validation). Перекрестная проверка помогает оценить, как хорошо модель обобщает данные, и избежать переобучения или недообучения.\n",
    "\n",
    "#### Оптимальное количество соседей можно выбрать путем использования перекрестной проверки для разных значений этого гиперпараметра и выбора того, которое демонстрирует наилучшую производительность на тестовом наборе данных."
   ]
  },
  {
   "cell_type": "code",
   "execution_count": null,
   "id": "b31b567b",
   "metadata": {},
   "outputs": [],
   "source": []
  }
 ],
 "metadata": {
  "kernelspec": {
   "display_name": "Python 3 (ipykernel)",
   "language": "python",
   "name": "python3"
  },
  "language_info": {
   "codemirror_mode": {
    "name": "ipython",
    "version": 3
   },
   "file_extension": ".py",
   "mimetype": "text/x-python",
   "name": "python",
   "nbconvert_exporter": "python",
   "pygments_lexer": "ipython3",
   "version": "3.9.12"
  }
 },
 "nbformat": 4,
 "nbformat_minor": 5
}
