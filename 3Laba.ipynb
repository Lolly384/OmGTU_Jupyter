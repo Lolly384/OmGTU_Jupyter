{
 "cells": [
  {
   "cell_type": "markdown",
   "id": "21f7fc4a-e17c-41c2-9a5f-e76161912acf",
   "metadata": {},
   "source": [
    "# Лабораторная работа №1\n",
    "## ----------------------------------------------------------------------------------------------------------------------------------\n",
    "## Задание:\n",
    "1 . Провести классификацию найденного датасета, методами линеной и логистической регрессий . В формате Markdown написать пояснения. Объяснить почему были выбраны именно такие гиперпараметры, была ли перекрестная проверка, и т.д."
   ]
  },
  {
   "cell_type": "markdown",
   "id": "2da4fa6b-3243-43e9-bf97-3c29e66b5c82",
   "metadata": {},
   "source": [
    "## Решение:\n",
    "#### Подключаем библеотеки\n"
   ]
  },
  {
   "cell_type": "code",
   "execution_count": 1,
   "id": "e1788320-a3da-4eaf-a294-ff9dae1bb3c5",
   "metadata": {},
   "outputs": [],
   "source": [
    "import pandas as pd\n",
    "import numpy as np\n",
    "from sklearn.preprocessing import LabelEncoder\n",
    "\n",
    "from sklearn.model_selection import train_test_split\n",
    "from sklearn.neighbors import KNeighborsClassifier\n",
    "from sklearn.metrics import accuracy_score\n",
    "from sklearn.model_selection import GridSearchCV\n",
    "from sklearn.neighbors import KNeighborsClassifier\n",
    "from sklearn.metrics import accuracy_score\n",
    "from sklearn.metrics import classification_report\n",
    "from sklearn.model_selection import train_test_split, GridSearchCV\n",
    "from sklearn.linear_model import LinearRegression, LogisticRegression\n",
    "from sklearn.metrics import classification_report\n",
    "from sklearn.metrics import mean_absolute_error, mean_squared_error, r2_score\n",
    "from sklearn.preprocessing import StandardScaler\n",
    "from sklearn.metrics import roc_curve, auc\n",
    "import matplotlib.pyplot as plt\n",
    "import matplotlib.pyplot as plt\n",
    "from imblearn.under_sampling import RandomUnderSampler"
   ]
  },
  {
   "cell_type": "markdown",
   "id": "aa1ada57-20cb-454e-98c7-c8c1db25d21a",
   "metadata": {},
   "source": [
    "### Загружаю данные и вывод датасет\n"
   ]
  },
  {
   "cell_type": "code",
   "execution_count": 2,
   "id": "5fe0832d-76ad-4e37-b20d-d070c5d8aa07",
   "metadata": {},
   "outputs": [
    {
     "name": "stdout",
     "output_type": "stream",
     "text": [
      "<class 'pandas.core.frame.DataFrame'>\n",
      "RangeIndex: 40000 entries, 0 to 39999\n",
      "Data columns (total 5 columns):\n",
      " #   Column               Non-Null Count  Dtype  \n",
      "---  ------               --------------  -----  \n",
      " 0   Source Port          40000 non-null  int64  \n",
      " 1   Destination Port     40000 non-null  int64  \n",
      " 2   Packet Length        40000 non-null  int64  \n",
      " 3   Anomaly Scores       40000 non-null  float64\n",
      " 4   Attack Type Encoded  40000 non-null  int32  \n",
      "dtypes: float64(1), int32(1), int64(3)\n",
      "memory usage: 1.4 MB\n"
     ]
    }
   ],
   "source": [
    "Dataset = pd.read_csv('cybersecurity_attacks.csv') \n",
    "label_encoder = LabelEncoder()\n",
    "Dataset['Attack Type Encoded'] = label_encoder.fit_transform(Dataset['Attack Type'])\n",
    "non_numeric_columns = Dataset.select_dtypes(exclude=['number']).columns.tolist()\n",
    "Dataset = Dataset.drop(columns=non_numeric_columns)\n",
    "# Заполнение пустых значений средними значениями\n",
    "columns_to_fill = ['Source Port', 'Destination Port', 'Packet Length', 'Anomaly Scores']\n",
    "for column in columns_to_fill:\n",
    "    mean_value = Dataset[column].mean()\n",
    "    Dataset[column].fillna(mean_value, inplace=True)\n",
    "Dataset.info()"
   ]
  },
  {
   "cell_type": "markdown",
   "id": "9c5769f6-c921-484b-9f75-f961b41b880b",
   "metadata": {},
   "source": [
    "### Преобразую данные и разделяю на признаки"
   ]
  },
  {
   "cell_type": "code",
   "execution_count": 3,
   "id": "7676c682-5c07-47e3-8294-b83d430a8f81",
   "metadata": {},
   "outputs": [],
   "source": [
    "X = Dataset.drop(columns=['Attack Type Encoded'])  \n",
    "y = Dataset['Attack Type Encoded']\n"
   ]
  },
  {
   "cell_type": "markdown",
   "id": "b1e43117-fad3-4e2f-85c5-ad6392838da4",
   "metadata": {},
   "source": [
    "### Ищем лучший параметр"
   ]
  },
  {
   "cell_type": "code",
   "execution_count": 4,
   "id": "3a62831e-65ba-4634-80c8-1854978801b3",
   "metadata": {},
   "outputs": [
    {
     "name": "stdout",
     "output_type": "stream",
     "text": [
      "0    7849\n",
      "1    7849\n",
      "2    7849\n",
      "Name: Attack Type Encoded, dtype: int64\n",
      "[2 0 1]\n",
      "Лучшие параметры для линейной регрессии: {'fit_intercept': True}\n"
     ]
    }
   ],
   "source": [
    "X_train, X_test, y_train, y_test = train_test_split(Dataset.drop('Attack Type Encoded', axis=1), Dataset['Attack Type Encoded'], test_size=0.4, random_state=42)\n",
    "\n",
    "scaler = StandardScaler()\n",
    "X_train = scaler.fit_transform(X_train)\n",
    "X_test = scaler.transform(X_test)\n",
    "\n",
    "under_sampler = RandomUnderSampler(random_state=42)\n",
    "\n",
    "X_resampled, y_resampled = under_sampler.fit_resample(X_train, y_train)\n",
    "\n",
    "print(pd.Series(y_resampled).value_counts())\n",
    "print(y_test.unique())\n",
    "# Создание модели\n",
    "linear_model = LinearRegression()\n",
    "\n",
    "# Подготовка параметров для GridSearchCV\n",
    "linear_params = {'fit_intercept': [True, False]}\n",
    "\n",
    "# Инициализация GridSearchCV\n",
    "linear_grid = GridSearchCV(linear_model, linear_params, cv=5)\n",
    "\n",
    "# Обучение модели\n",
    "linear_grid.fit(X_resampled, y_resampled)\n",
    "\n",
    "# Вывод результатов\n",
    "print(\"Лучшие параметры для линейной регрессии:\", linear_grid.best_params_)"
   ]
  },
  {
   "cell_type": "markdown",
   "id": "de2763bf",
   "metadata": {},
   "source": [
    "### Оценка линейной регресии"
   ]
  },
  {
   "cell_type": "code",
   "execution_count": 5,
   "id": "b74fdf92-0cc1-4a81-90ee-6d2ab5ed5c48",
   "metadata": {},
   "outputs": [
    {
     "name": "stdout",
     "output_type": "stream",
     "text": [
      "MAE:  0.663106349697707\n",
      "MSE:  0.6615384345210228\n",
      "R^2:  -6.27319926520542e-05\n"
     ]
    },
    {
     "data": {
      "image/png": "[encoded data removed]",
      "text/plain": [
       "<Figure size 432x288 with 1 Axes>"
      ]
     },
     "metadata": {
      "needs_background": "light"
     },
     "output_type": "display_data"
    },
    {
     "name": "stdout",
     "output_type": "stream",
     "text": [
      "              precision    recall  f1-score   support\n",
      "\n",
      "           0       1.00      0.00      0.00      5306\n",
      "           1       0.34      1.00      0.51      5416\n",
      "           2       1.00      0.00      0.00      5278\n",
      "\n",
      "    accuracy                           0.34     16000\n",
      "   macro avg       0.78      0.33      0.17     16000\n",
      "weighted avg       0.78      0.34      0.17     16000\n",
      "\n"
     ]
    }
   ],
   "source": [
    "# Предсказание на тестовых данных с лучшими параметрами\n",
    "linear_predictions = linear_grid.predict(X_test)\n",
    "\n",
    "# Оценка качества модели регрессии\n",
    "mae = mean_absolute_error(y_test, linear_predictions)\n",
    "mse = mean_squared_error(y_test, linear_predictions)\n",
    "r2 = r2_score(y_test, linear_predictions)\n",
    "\n",
    "print(\"MAE: \", mae)\n",
    "print(\"MSE: \", mse)\n",
    "print(\"R^2: \", r2)\n",
    "\n",
    "# Визуа`изация результатов регрессии\n",
    "plt.scatter(y_test, linear_predictions)\n",
    "plt.xlabel(\"Фактическое значение 'Attack Type Encoded'\")\n",
    "plt.ylabel(\"Предсказанное значение 'Attack Type Encoded'\")\n",
    "plt.title(\"Линейная регрессия: Фактическое vs. Предсказанное 'Attack Type Encoded'\")\n",
    "plt.show()\n",
    "\n",
    "# Округление предсказанных значений до целых чисел (поскольку это классы)\n",
    "rounded_predictions = [round(pred) for pred in linear_predictions]\n",
    "# Вывод отчета классификации\n",
    "print(classification_report(y_test, rounded_predictions, zero_division=1))\n"
   ]
  },
  {
   "cell_type": "markdown",
   "id": "2a0babee",
   "metadata": {},
   "source": [
    "### Класификация с использованием логической регресии и построение графика\n"
   ]
  },
  {
   "cell_type": "code",
   "execution_count": 6,
   "id": "ba72427b",
   "metadata": {},
   "outputs": [
    {
     "name": "stdout",
     "output_type": "stream",
     "text": [
      "Лучшие параметры для логистической регрессии: {'C': 0.001, 'penalty': 'l2'}\n",
      "Отчет о классификации для логистической регрессии:\n",
      "               precision    recall  f1-score   support\n",
      "\n",
      "           0       0.33      0.67      0.44      5306\n",
      "           1       0.32      0.10      0.15      5416\n",
      "           2       0.33      0.22      0.26      5278\n",
      "\n",
      "    accuracy                           0.33     16000\n",
      "   macro avg       0.33      0.33      0.28     16000\n",
      "weighted avg       0.33      0.33      0.28     16000\n",
      "\n"
     ]
    },
    {
     "data": {
      "image/png": "[encoded data removed]",
      "text/plain": [
       "<Figure size 576x576 with 1 Axes>"
      ]
     },
     "metadata": {
      "needs_background": "light"
     },
     "output_type": "display_data"
    }
   ],
   "source": [
    "X = Dataset.drop('Attack Type Encoded', axis=1) \n",
    "y = Dataset['Attack Type Encoded']  \n",
    "\n",
    "X_train, X_test, y_train, y_test = train_test_split(X, y, test_size=0.4, random_state=42)\n",
    "\n",
    "logistic_model = LogisticRegression(multi_class='auto', solver='liblinear', max_iter=1000)\n",
    "\n",
    "logistic_params = {'C': [0.001, 0.01, 0.1, 1, 10], 'penalty': ['l1', 'l2']}\n",
    "\n",
    "logistic_grid = GridSearchCV(logistic_model, logistic_params, cv=5)\n",
    "logistic_grid.fit(X_train, y_train)\n",
    "\n",
    "print(\"Лучшие параметры для логистической регрессии:\", logistic_grid.best_params_)\n",
    "\n",
    "best_logistic_model = LogisticRegression(\n",
    "    multi_class='auto',\n",
    "    solver='liblinear',\n",
    "    max_iter=1000,\n",
    "    C=logistic_grid.best_params_['C'],\n",
    "    penalty=logistic_grid.best_params_['penalty']\n",
    ")\n",
    "\n",
    "best_logistic_model.fit(X_train, y_train)\n",
    "\n",
    "logistic_predictions = best_logistic_model.predict(X_test)\n",
    "logistic_classification_report = classification_report(y_test, logistic_predictions)\n",
    "print(\"Отчет о классификации для логистической регрессии:\\n\", logistic_classification_report)\n",
    "\n",
    "logistic_probabilities = best_logistic_model.predict_proba(X_test)\n",
    "\n",
    "fpr = dict()\n",
    "tpr = dict()\n",
    "roc_auc = dict()\n",
    "for i in range(3):  \n",
    "    fpr[i], tpr[i], _ = roc_curve(y_test == i, logistic_probabilities[:, i])\n",
    "    roc_auc[i] = auc(fpr[i], tpr[i])\n",
    "\n",
    "plt.figure(figsize=(8, 8))\n",
    "for i in range(3):\n",
    "    plt.plot(fpr[i], tpr[i], lw=2, label='ROC-кривая класса {0} (площадь = {1:.2f})'.format(i, roc_auc[i]))\n",
    "\n",
    "plt.plot([0, 1], [0, 1], color='navy', lw=2, linestyle='--')\n",
    "plt.xlim([0.0, 1.0])\n",
    "plt.ylim([0.0, 1.05])\n",
    "plt.xlabel('Доля ложноположительных классификаций')\n",
    "plt.ylabel('Доля истинноположительных классификаций')\n",
    "plt.title('Кривая ошибок (ROC-кривая) для многоклассовой классификации')\n",
    "plt.legend(loc='lower right')\n",
    "plt.show()\n",
    "\n"
   ]
  },
  {
   "cell_type": "code",
   "execution_count": null,
   "id": "9fb01fed",
   "metadata": {},
   "outputs": [],
   "source": []
  }
 ],
 "metadata": {
  "kernelspec": {
   "display_name": "Python 3 (ipykernel)",
   "language": "python",
   "name": "python3"
  },
  "language_info": {
   "codemirror_mode": {
    "name": "ipython",
    "version": 3
   },
   "file_extension": ".py",
   "mimetype": "text/x-python",
   "name": "python",
   "nbconvert_exporter": "python",
   "pygments_lexer": "ipython3",
   "version": "3.9.12"
  }
 },
 "nbformat": 4,
 "nbformat_minor": 5
}
