{
 "cells": [
  {
   "cell_type": "markdown",
   "id": "477be5a9",
   "metadata": {},
   "source": [
    "# Лабораторная работа 2\n",
    "## ----------------------------------------------------------------------------------------------------------------------------------\n",
    "## Задание:\n",
    "1. Провести классификацию найденного датасета, методом машины опорных векторов. В формате Markdown писать пояснения. Объяснить почему были выбраны именно такие гиперпараметры, была ли перекрестная проверка, и т.д."
   ]
  },
  {
   "cell_type": "markdown",
   "id": "b75055d1",
   "metadata": {},
   "source": [
    "#### Подключаю библеотеки"
   ]
  },
  {
   "cell_type": "code",
   "execution_count": 11,
   "id": "90074ef4",
   "metadata": {},
   "outputs": [],
   "source": [
    "import pandas as pd\n",
    "from sklearn.model_selection import train_test_split\n",
    "from sklearn.preprocessing import StandardScaler\n",
    "from sklearn.svm import SVC\n",
    "from sklearn.metrics import accuracy_score, classification_report\n",
    "from sklearn.model_selection import cross_val_score\n",
    "from sklearn.model_selection import StratifiedKFold\n",
    "from sklearn.preprocessing import LabelEncoder"
   ]
  },
  {
   "cell_type": "markdown",
   "id": "bcac48a6",
   "metadata": {},
   "source": [
    "#### Загружаю данные и подготавливаю датасет"
   ]
  },
  {
   "cell_type": "code",
   "execution_count": 15,
   "id": "01949f08",
   "metadata": {},
   "outputs": [
    {
     "name": "stdout",
     "output_type": "stream",
     "text": [
      "       Source Port  Destination Port  Packet Length  Anomaly Scores  \\\n",
      "0            31225             17616            503           28.67   \n",
      "1            17245             48166           1174           51.50   \n",
      "2            16811             53600            306           87.42   \n",
      "3            20018             32534            385           15.79   \n",
      "4             6131             26646           1462            0.52   \n",
      "...            ...               ...            ...             ...   \n",
      "39995        31005              6764           1428           39.28   \n",
      "39996         2553             28091           1184           27.25   \n",
      "39997        22505             25152           1043           31.01   \n",
      "39998        20013              2703            483           97.85   \n",
      "39999        50137             55575           1175           34.63   \n",
      "\n",
      "       Attack Type Encoded  \n",
      "0                        2  \n",
      "1                        2  \n",
      "2                        0  \n",
      "3                        2  \n",
      "4                        0  \n",
      "...                    ...  \n",
      "39995                    0  \n",
      "39996                    0  \n",
      "39997                    0  \n",
      "39998                    2  \n",
      "39999                    1  \n",
      "\n",
      "[40000 rows x 5 columns]\n"
     ]
    }
   ],
   "source": [
    "dataSet = pd.read_csv('cybersecurity_attacks.csv')\n",
    "\n",
    "label_encoder = LabelEncoder()\n",
    "dataSet['Attack Type Encoded'] = label_encoder.fit_transform(dataSet['Attack Type'])\n",
    "\n",
    "non_numeric_columns = dataSet.select_dtypes(exclude=['number']).columns.tolist()\n",
    "\n",
    "dataSet = dataSet.drop(columns=non_numeric_columns)\n",
    "dataSet.dropna(inplace=True)\n",
    "print(dataSet)"
   ]
  },
  {
   "cell_type": "markdown",
   "id": "eb4a1eca",
   "metadata": {},
   "source": [
    "#### Разделяю данные и нормализую"
   ]
  },
  {
   "cell_type": "code",
   "execution_count": 16,
   "id": "74b5c8f4",
   "metadata": {},
   "outputs": [],
   "source": [
    "# Разделение данных на обучающую и тестовую выборки\n",
    "X = dataSet.drop('Attack Type Encoded', axis=1)  # Замените 'target' на имя столбца с целевой переменной\n",
    "y = dataSet['Attack Type Encoded']  # Замените 'target' на имя столбца с целевой переменной\n",
    "X_train, X_test, y_train, y_test = train_test_split(X, y, test_size=0.2, random_state=42)\n",
    "\n",
    "# Нормализация данных\n",
    "scaler = StandardScaler()\n",
    "X_train = scaler.fit_transform(X_train)\n",
    "X_test = scaler.transform(X_test)"
   ]
  },
  {
   "cell_type": "markdown",
   "id": "972313c6",
   "metadata": {},
   "source": [
    "#### Обучение и оценка качества"
   ]
  },
  {
   "cell_type": "code",
   "execution_count": 17,
   "id": "0d85ec49",
   "metadata": {},
   "outputs": [
    {
     "name": "stdout",
     "output_type": "stream",
     "text": [
      "Точность модели: 0.3295\n",
      "              precision    recall  f1-score   support\n",
      "\n",
      "           0       0.33      1.00      0.50      2636\n",
      "           1       1.00      0.00      0.00      2721\n",
      "           2       1.00      0.00      0.00      2643\n",
      "\n",
      "    accuracy                           0.33      8000\n",
      "   macro avg       0.78      0.33      0.17      8000\n",
      "weighted avg       0.78      0.33      0.16      8000\n",
      "\n",
      "Средняя точность перекрестной проверки: 0.3306875\n"
     ]
    }
   ],
   "source": [
    "# Инициализация модели SVM с выбранными гиперпараметрами\n",
    "# Вы можете изменить эти параметры в соответствии с вашими потребностями\n",
    "svm_model = SVC(kernel='linear', C=1.0)\n",
    "\n",
    "# Обучение модели\n",
    "svm_model.fit(X_train, y_train)\n",
    "\n",
    "# Предсказание на тестовой выборке\n",
    "y_pred = svm_model.predict(X_test)\n",
    "\n",
    "# Оценка качества модели\n",
    "accuracy = accuracy_score(y_test, y_pred)\n",
    "report = classification_report(y_test, y_pred, zero_division = 1)\n",
    "\n",
    "print(f'Точность модели: {accuracy}')\n",
    "print(report)\n",
    "\n",
    "# Перекрестная проверка\n",
    "stratified_kfold = StratifiedKFold(n_splits=2, shuffle=True, random_state=42)\n",
    "cross_val_scores = cross_val_score(svm_model, X_train, y_train, cv=stratified_kfold)\n",
    "\n",
    "print(f'Средняя точность перекрестной проверки: {cross_val_scores.mean()}')"
   ]
  },
  {
   "cell_type": "code",
   "execution_count": null,
   "id": "56f5701f",
   "metadata": {},
   "outputs": [],
   "source": []
  }
 ],
 "metadata": {
  "kernelspec": {
   "display_name": "Python 3 (ipykernel)",
   "language": "python",
   "name": "python3"
  },
  "language_info": {
   "codemirror_mode": {
    "name": "ipython",
    "version": 3
   },
   "file_extension": ".py",
   "mimetype": "text/x-python",
   "name": "python",
   "nbconvert_exporter": "python",
   "pygments_lexer": "ipython3",
   "version": "3.9.12"
  }
 },
 "nbformat": 4,
 "nbformat_minor": 5
}
