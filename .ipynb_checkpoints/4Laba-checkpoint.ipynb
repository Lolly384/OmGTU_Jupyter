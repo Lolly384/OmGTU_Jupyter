{
 "cells": [
  {
   "cell_type": "markdown",
   "id": "aab26f62-6a84-410d-94e5-652cc7cc4017",
   "metadata": {},
   "source": [
    "# Лабораторная работа №1\n",
    "## ----------------------------------------------------------------------------------------------------------------------------------\n",
    "## Задание:\n",
    "1 . Провести классификацию найденного датасета, методами наивного Байеса  . В формате Markdown написать пояснения. Объяснить почему были выбраны именно такие гиперпараметры, была ли перекрестная проверка, и т.д."
   ]
  },
  {
   "cell_type": "markdown",
   "id": "46b2f1a3-3ad3-4c8b-8745-a5682f9fb8cd",
   "metadata": {},
   "source": [
    "## Решение:\n",
    "#### Подключаем библеотеки\n"
   ]
  },
  {
   "cell_type": "code",
   "execution_count": 1,
   "id": "fc5d0a36-6ac8-4c4f-bb7d-ec0b65a8db3e",
   "metadata": {},
   "outputs": [],
   "source": [
    "import pandas as pd\n",
    "import numpy as np\n",
    "from sklearn.preprocessing import LabelEncoder\n",
    "from sklearn.model_selection import train_test_split, GridSearchCV\n",
    "from sklearn.naive_bayes import GaussianNB, BernoulliNB, MultinomialNB\n",
    "from sklearn.metrics import accuracy_score, classification_report\n",
    "import matplotlib.pyplot as plt\n"
   ]
  },
  {
   "cell_type": "markdown",
   "id": "4483eecd-728b-42c9-bfde-4e81da683ee5",
   "metadata": {},
   "source": [
    "#### Загружаю данные и вывод датасет\n"
   ]
  },
  {
   "cell_type": "code",
   "execution_count": 2,
   "id": "746b6eaa-a9fd-4968-9e13-6e72a9403754",
   "metadata": {},
   "outputs": [
    {
     "name": "stdout",
     "output_type": "stream",
     "text": [
      "             Timestamp Source IP Address Destination IP Address  Source Port  \\\n",
      "0  2023-05-30 06:33:58     103.216.15.12           84.9.164.252        31225   \n",
      "1  2020-08-26 07:08:30    78.199.217.198         66.191.137.154        17245   \n",
      "2  2022-11-13 08:23:25      63.79.210.48          198.219.82.17        16811   \n",
      "3  2023-07-02 10:38:46     163.42.196.10        101.228.192.255        20018   \n",
      "4  2023-07-16 13:11:07     71.166.185.76        189.243.174.238         6131   \n",
      "\n",
      "   Destination Port Protocol  Packet Length Packet Type Traffic Type  \\\n",
      "0             17616     ICMP            503        Data         HTTP   \n",
      "1             48166     ICMP           1174        Data         HTTP   \n",
      "2             53600      UDP            306     Control         HTTP   \n",
      "3             32534      UDP            385        Data         HTTP   \n",
      "4             26646      TCP           1462        Data          DNS   \n",
      "\n",
      "                                        Payload Data  ... Action Taken  \\\n",
      "0  Qui natus odio asperiores nam. Optio nobis ius...  ...       Logged   \n",
      "1  Aperiam quos modi officiis veritatis rem. Omni...  ...      Blocked   \n",
      "2  Perferendis sapiente vitae soluta. Hic delectu...  ...      Ignored   \n",
      "3  Totam maxime beatae expedita explicabo porro l...  ...      Blocked   \n",
      "4  Odit nesciunt dolorem nisi iste iusto. Animi v...  ...      Blocked   \n",
      "\n",
      "   Severity Level User Information  \\\n",
      "0             Low    Reyansh Dugal   \n",
      "1             Low       Sumer Rana   \n",
      "2             Low     Himmat Karpe   \n",
      "3          Medium       Fateh Kibe   \n",
      "4             Low     Dhanush Chad   \n",
      "\n",
      "                                  Device Information Network Segment  \\\n",
      "0  Mozilla/5.0 (compatible; MSIE 8.0; Windows NT ...       Segment A   \n",
      "1  Mozilla/5.0 (compatible; MSIE 8.0; Windows NT ...       Segment B   \n",
      "2  Mozilla/5.0 (compatible; MSIE 9.0; Windows NT ...       Segment C   \n",
      "3  Mozilla/5.0 (Macintosh; PPC Mac OS X 10_11_5; ...       Segment B   \n",
      "4  Mozilla/5.0 (compatible; MSIE 5.0; Windows NT ...       Segment C   \n",
      "\n",
      "    Geo-location Data Proxy Information Firewall Logs IDS/IPS Alerts  \\\n",
      "0  Jamshedpur, Sikkim      150.9.97.135      Log Data            NaN   \n",
      "1  Bilaspur, Nagaland               NaN      Log Data            NaN   \n",
      "2   Bokaro, Rajasthan    114.133.48.179      Log Data     Alert Data   \n",
      "3  Jaunpur, Rajasthan               NaN           NaN     Alert Data   \n",
      "4  Anantapur, Tripura     149.6.110.119           NaN     Alert Data   \n",
      "\n",
      "  Log Source  \n",
      "0     Server  \n",
      "1   Firewall  \n",
      "2   Firewall  \n",
      "3   Firewall  \n",
      "4   Firewall  \n",
      "\n",
      "[5 rows x 25 columns]\n"
     ]
    }
   ],
   "source": [
    "Dataset = pd.read_csv('cybersecurity_attacks.csv')  # Замени на путь к файлу\n",
    "print(Dataset.head())"
   ]
  },
  {
   "cell_type": "markdown",
   "id": "a141c256-e55a-43a4-ad98-343e728d7fd1",
   "metadata": {},
   "source": [
    "### Создаём искомый столбец "
   ]
  },
  {
   "cell_type": "code",
   "execution_count": 3,
   "id": "86b1028e-7229-4d20-8ddd-07c86626459b",
   "metadata": {},
   "outputs": [
    {
     "name": "stdout",
     "output_type": "stream",
     "text": [
      "  Attack Type  Attack Type Encoded\n",
      "0     Malware                    2\n",
      "1     Malware                    2\n",
      "2        DDoS                    0\n",
      "3     Malware                    2\n",
      "4        DDoS                    0\n",
      "5     Malware                    2\n",
      "6        DDoS                    0\n",
      "7   Intrusion                    1\n",
      "8   Intrusion                    1\n",
      "9     Malware                    2\n"
     ]
    }
   ],
   "source": [
    "label_encoder = LabelEncoder()\n",
    "Dataset['Attack Type Encoded'] = label_encoder.fit_transform(Dataset['Attack Type'])\n",
    "print(Dataset[['Attack Type', 'Attack Type Encoded']].head(10))"
   ]
  },
  {
   "cell_type": "markdown",
   "id": "a530f51c-02aa-48d7-a398-cfcfb15e1c25",
   "metadata": {},
   "source": [
    "### Удоляем не числовые столбцы"
   ]
  },
  {
   "cell_type": "code",
   "execution_count": 4,
   "id": "8ea23b0c-6cb0-4e47-b85d-bb2e942e4a62",
   "metadata": {},
   "outputs": [
    {
     "name": "stdout",
     "output_type": "stream",
     "text": [
      "       Source Port  Destination Port  Packet Length  Anomaly Scores  \\\n",
      "0            31225             17616            503           28.67   \n",
      "1            17245             48166           1174           51.50   \n",
      "2            16811             53600            306           87.42   \n",
      "3            20018             32534            385           15.79   \n",
      "4             6131             26646           1462            0.52   \n",
      "...            ...               ...            ...             ...   \n",
      "39995        31005              6764           1428           39.28   \n",
      "39996         2553             28091           1184           27.25   \n",
      "39997        22505             25152           1043           31.01   \n",
      "39998        20013              2703            483           97.85   \n",
      "39999        50137             55575           1175           34.63   \n",
      "\n",
      "       Attack Type Encoded  \n",
      "0                        2  \n",
      "1                        2  \n",
      "2                        0  \n",
      "3                        2  \n",
      "4                        0  \n",
      "...                    ...  \n",
      "39995                    0  \n",
      "39996                    0  \n",
      "39997                    0  \n",
      "39998                    2  \n",
      "39999                    1  \n",
      "\n",
      "[40000 rows x 5 columns]\n"
     ]
    }
   ],
   "source": [
    "non_numeric_columns = Dataset.select_dtypes(exclude=['number']).columns.tolist()\n",
    "Dataset = Dataset.drop(columns=non_numeric_columns)\n",
    "\n",
    "# Заполнение пустых значений средними значениями\n",
    "columns_to_fill = ['Source Port', 'Destination Port', 'Packet Length', 'Anomaly Scores']\n",
    "for column in columns_to_fill:\n",
    "    mean_value = Dataset[column].mean()\n",
    "    Dataset[column].fillna(mean_value, inplace=True)\n",
    "\n",
    "print(Dataset)"
   ]
  },
  {
   "cell_type": "markdown",
   "id": "346c7ebb-f0e7-4938-8552-bac79ac97f7d",
   "metadata": {},
   "source": [
    "### Ищем лучшие метрики с использованием "
   ]
  },
  {
   "cell_type": "code",
   "execution_count": 5,
   "id": "9faafc49-a602-41d2-9eb1-453cd5bb3aa4",
   "metadata": {},
   "outputs": [
    {
     "name": "stdout",
     "output_type": "stream",
     "text": [
      "GaussianNB - Лучшее значение параметра: {}, Точность на тесте: 0.328375\n",
      "MultinomialNB - Лучшее значение параметра: {'alpha': 0.1}, Точность на тесте: 0.327125\n",
      "BernoulliNB - Лучшее значение параметра: {'alpha': 0.1}, Точность на тесте: 0.331625\n"
     ]
    }
   ],
   "source": [
    "X = Dataset.drop(columns=['Attack Type Encoded'])\n",
    "y = Dataset['Attack Type Encoded']\n",
    "\n",
    "X_train, X_test, y_train, y_test = train_test_split(X, y, test_size=0.4, random_state=42)\n",
    "\n",
    "models = [\n",
    "    {\n",
    "        'name': 'GaussianNB',\n",
    "        'model': GaussianNB(),\n",
    "        'params': {}\n",
    "    },\n",
    "    {\n",
    "        'name': 'MultinomialNB',\n",
    "        'model': MultinomialNB(),\n",
    "        'params': {'alpha': [0.1, 0.5, 1.0, 1.5, 2.0]}  # Параметр alpha для MultinomialNB\n",
    "    },\n",
    "    {\n",
    "        'name': 'BernoulliNB',\n",
    "        'model': BernoulliNB(),\n",
    "        'params': {'alpha': [0.1, 0.5, 1.0, 1.5, 2.0]}  # Параметр alpha для BernoulliNB\n",
    "    }\n",
    "]\n",
    "\n",
    "best_accuracy = 0\n",
    "best_model = None\n",
    "\n",
    "for model in models:\n",
    "    grid_search = GridSearchCV(model['model'], model['params'], cv=5)  # Поиск по сетке с кросс-валидацией\n",
    "    grid_search.fit(X_train, y_train)  # Обучение модели на обучающих данных\n",
    "    \n",
    "    # Оценка точности на тестовой выборке\n",
    "    y_pred = grid_search.predict(X_test)\n",
    "    accuracy = accuracy_score(y_test, y_pred)\n",
    "    \n",
    "    print(f\"{model['name']} - Лучшее значение параметра: {grid_search.best_params_}, Точность на тесте: {accuracy}\")\n",
    "    \n",
    "    # Выбор лучшей модели\n",
    "    if accuracy > best_accuracy:\n",
    "        best_accuracy = accuracy\n",
    "        best_model = grid_search.best_estimator_\n",
    "\n"
   ]
  },
  {
   "cell_type": "markdown",
   "id": "7937ee07-86c8-43ba-8782-d3b6bf14d2aa",
   "metadata": {},
   "source": [
    "### обучаем на лучьших гиперпараметрах"
   ]
  },
  {
   "cell_type": "code",
   "execution_count": 6,
   "id": "f4cf8c00-5339-4226-af10-afe3f428306d",
   "metadata": {},
   "outputs": [
    {
     "name": "stdout",
     "output_type": "stream",
     "text": [
      "              precision    recall  f1-score   support\n",
      "\n",
      "           0       0.34      1.00      0.50     13428\n",
      "           1       1.00      0.00      0.00     13265\n",
      "           2       1.00      0.00      0.00     13307\n",
      "\n",
      "    accuracy                           0.34     40000\n",
      "   macro avg       0.78      0.33      0.17     40000\n",
      "weighted avg       0.78      0.34      0.17     40000\n",
      "\n"
     ]
    }
   ],
   "source": [
    "# Retrain the best model on the entire dataset\n",
    "best_model.fit(X_train, y_train)\n",
    "\n",
    "# Make predictions on the entire dataset\n",
    "y_pred_full = best_model.predict(X)\n",
    "classification_rep = classification_report(y, y_pred_full, zero_division=1)\n",
    "print(classification_rep)"
   ]
  },
  {
   "cell_type": "code",
   "execution_count": null,
   "id": "f59a05f8-affc-4ccc-9c09-c5c43585c741",
   "metadata": {},
   "outputs": [],
   "source": []
  },
  {
   "cell_type": "code",
   "execution_count": null,
   "id": "07618228-0e4c-44c8-a989-0f5814992ee3",
   "metadata": {},
   "outputs": [],
   "source": []
  },
  {
   "cell_type": "code",
   "execution_count": null,
   "id": "55182458-fc8f-4432-ac09-41f4eec70268",
   "metadata": {},
   "outputs": [],
   "source": []
  }
 ],
 "metadata": {
  "kernelspec": {
   "display_name": "Python 3 (ipykernel)",
   "language": "python",
   "name": "python3"
  },
  "language_info": {
   "codemirror_mode": {
    "name": "ipython",
    "version": 3
   },
   "file_extension": ".py",
   "mimetype": "text/x-python",
   "name": "python",
   "nbconvert_exporter": "python",
   "pygments_lexer": "ipython3",
   "version": "3.9.12"
  }
 },
 "nbformat": 4,
 "nbformat_minor": 5
}
